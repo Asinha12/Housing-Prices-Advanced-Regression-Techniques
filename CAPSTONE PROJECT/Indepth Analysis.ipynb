{
 "cells": [
  {
   "cell_type": "markdown",
   "metadata": {},
   "source": [
    "# INDEPTH ANALYSIS(MACHINE LEARNING)"
   ]
  },
  {
   "cell_type": "markdown",
   "metadata": {},
   "source": [
    "In this part of the Capstone Project, we will train the dataset with suitable Machine Learning Models on train set and predict the target variable i.e Sale Price for Test set.  "
   ]
  },
  {
   "cell_type": "code",
   "execution_count": 1,
   "metadata": {},
   "outputs": [],
   "source": [
    "#Necassary Imports and reading data.\n",
    "import pandas as pd\n",
    "import numpy as np\n",
    "import matplotlib.pyplot as plt\n",
    "import seaborn as sns\n",
    "%matplotlib inline\n",
    "sns.set_style(\"whitegrid\")\n"
   ]
  },
  {
   "cell_type": "code",
   "execution_count": 2,
   "metadata": {},
   "outputs": [],
   "source": [
    "from sklearn.linear_model import Lasso"
   ]
  },
  {
   "cell_type": "code",
   "execution_count": 3,
   "metadata": {},
   "outputs": [],
   "source": [
    "train=pd.read_csv('E:\\\\TANU\\\\datasets\\\\housing price\\\\train.csv')\n",
    "\n"
   ]
  },
  {
   "cell_type": "markdown",
   "metadata": {},
   "source": [
    "## Preprocessing and Feature Engineering steps:\n",
    "    We would clean the data and create new variables as follows.\n",
    "1. Creating list of categories and numeric columns.\n",
    "2. Creation of new variable 'newsqavr'.\n",
    "3. Creating new variables out of numeric variables that reflect absence or presence of zero.\n",
    "4. Filling NaN and zero with interpolation\n",
    "5. Categorical Nan's filled with 'Absent'\n",
    "6. All categorical variables have been converted into numeric values that represent mean Saleprice of each label."
   ]
  },
  {
   "cell_type": "code",
   "execution_count": 4,
   "metadata": {},
   "outputs": [],
   "source": [
    "# Creating list of categories and numeric columns\n",
    "# Creation of new variable 'newsqvar'\n",
    "from pandas.api.types import is_numeric_dtype\n",
    "numcollist=[col for col in train.drop('Id', axis=1).columns if is_numeric_dtype(train[col]) ]\n",
    "ordlist=[col for col in numcollist if train[col].nunique() < 16 ]\n",
    "ordlist.append('YearBuilt')\n",
    "ordlist.append('YearRemodAdd')\n",
    "ordlist.append('GarageYrBlt')\n",
    "for col in ordlist:\n",
    "    numcollist.remove(col)\n",
    "categlist=[col for col in train.drop('Id', axis=1).columns if not is_numeric_dtype(train[col])]\n",
    "\n",
    "categlist=categlist+ ordlist\n",
    "\n",
    "\n",
    "train['newsqvar']=train['TotalBsmtSF']+train['1stFlrSF']+train['GrLivArea']\n",
    "droplist=['TotalBsmtSF','1stFlrSF','GrLivArea']\n",
    "train=train.drop(droplist, axis=1)\n",
    "for col in droplist:\n",
    "    numcollist.remove(col)\n",
    "numcollist.append('newsqvar')\n"
   ]
  },
  {
   "cell_type": "code",
   "execution_count": 5,
   "metadata": {},
   "outputs": [],
   "source": [
    "# Creating new variables out of numeric variables that reflect absence or presence of zero.\n",
    "for col in numcollist:\n",
    "    if 0 in train[col].values:\n",
    "        #print(col)\n",
    "        train['zero'+col]=np.where(train[col]==0,1,0)\n",
    "        categlist.append('zero'+col)\n",
    "# Nan Imputation\n",
    "train[numcollist]=train[numcollist].replace(0, np.nan).interpolate(kind='linear',limit_direction='both')\n",
    "train[categlist]=train[categlist].fillna('Absent')"
   ]
  },
  {
   "cell_type": "code",
   "execution_count": 6,
   "metadata": {},
   "outputs": [],
   "source": [
    "# Function for labelling categorical variables with numeric values.\n",
    "\n",
    "def train_category_conversion(col):\n",
    "    a=train.groupby(col)['SalePrice'].mean()\n",
    "    a=round((a/10000),2)\n",
    "    index=a.index.values.tolist()\n",
    "    weight=a.values.tolist()\n",
    "    zipped=list(zip(index,weight))\n",
    "    dict1=dict(zipped)\n",
    "    train[col]=train[col].map(dict1)\n",
    "\n",
    "# Function for labelling categorical variables with numeric values for test data.\n",
    "def test_category_conversion(col):\n",
    "    a=test.groupby(col)['SalePrice'].mean()\n",
    "    a=round((a/10000),2)\n",
    "    index=a.index.values.tolist()\n",
    "    weight=a.values.tolist()\n",
    "    zipped=list(zip(index,weight))\n",
    "    dict1=dict(zipped)\n",
    "    test[col]=test[col].map(dict1)\n",
    "\n",
    "\n",
    "# Perform numeric labelling of categorical variables for train data    \n",
    "for col in categlist:\n",
    "    train_category_conversion(col)\n"
   ]
  },
  {
   "cell_type": "markdown",
   "metadata": {},
   "source": [
    "## Lasso regularisation for feature selection.\n",
    "Now we have a train set which is cleaned and transformed. We need to select few relevant features. This helps in reducing cost. For this we will apply Lasso Regularisation."
   ]
  },
  {
   "cell_type": "code",
   "execution_count": 7,
   "metadata": {
    "scrolled": true
   },
   "outputs": [
    {
     "data": {
      "text/plain": [
       "Lasso(alpha=0.001, copy_X=True, fit_intercept=True, max_iter=1000,\n",
       "      normalize=False, positive=False, precompute=False, random_state=40,\n",
       "      selection='cyclic', tol=0.0001, warm_start=False)"
      ]
     },
     "execution_count": 7,
     "metadata": {},
     "output_type": "execute_result"
    }
   ],
   "source": [
    "# We create Lasso Regression  object with tuned alpha and fit the data. The data is converted to its logarithmic equivalent.\n",
    "from sklearn.linear_model import Lasso\n",
    "X=np.log(train.drop(['SalePrice', 'Id'], axis=1))\n",
    "y=np.log(train['SalePrice'])\n",
    "lasso=Lasso(alpha=.001 , random_state=40)\n",
    "lasso.fit(X,y)\n",
    "\n"
   ]
  },
  {
   "cell_type": "code",
   "execution_count": 8,
   "metadata": {},
   "outputs": [
    {
     "data": {
      "text/html": [
       "<div>\n",
       "<style scoped>\n",
       "    .dataframe tbody tr th:only-of-type {\n",
       "        vertical-align: middle;\n",
       "    }\n",
       "\n",
       "    .dataframe tbody tr th {\n",
       "        vertical-align: top;\n",
       "    }\n",
       "\n",
       "    .dataframe thead th {\n",
       "        text-align: right;\n",
       "    }\n",
       "</style>\n",
       "<table border=\"1\" class=\"dataframe\">\n",
       "  <thead>\n",
       "    <tr style=\"text-align: right;\">\n",
       "      <th></th>\n",
       "      <th>features</th>\n",
       "      <th>coefficients</th>\n",
       "    </tr>\n",
       "  </thead>\n",
       "  <tbody>\n",
       "    <tr>\n",
       "      <th>76</th>\n",
       "      <td>newsqvar</td>\n",
       "      <td>0.377496</td>\n",
       "    </tr>\n",
       "    <tr>\n",
       "      <th>16</th>\n",
       "      <td>OverallQual</td>\n",
       "      <td>0.287977</td>\n",
       "    </tr>\n",
       "    <tr>\n",
       "      <th>11</th>\n",
       "      <td>Neighborhood</td>\n",
       "      <td>0.178389</td>\n",
       "    </tr>\n",
       "    <tr>\n",
       "      <th>46</th>\n",
       "      <td>HalfBath</td>\n",
       "      <td>0.124948</td>\n",
       "    </tr>\n",
       "    <tr>\n",
       "      <th>39</th>\n",
       "      <td>CentralAir</td>\n",
       "      <td>0.114512</td>\n",
       "    </tr>\n",
       "    <tr>\n",
       "      <th>51</th>\n",
       "      <td>Functional</td>\n",
       "      <td>0.107008</td>\n",
       "    </tr>\n",
       "    <tr>\n",
       "      <th>19</th>\n",
       "      <td>YearRemodAdd</td>\n",
       "      <td>0.106771</td>\n",
       "    </tr>\n",
       "    <tr>\n",
       "      <th>31</th>\n",
       "      <td>BsmtExposure</td>\n",
       "      <td>0.085539</td>\n",
       "    </tr>\n",
       "    <tr>\n",
       "      <th>1</th>\n",
       "      <td>MSZoning</td>\n",
       "      <td>0.084282</td>\n",
       "    </tr>\n",
       "    <tr>\n",
       "      <th>50</th>\n",
       "      <td>TotRmsAbvGrd</td>\n",
       "      <td>0.082489</td>\n",
       "    </tr>\n",
       "    <tr>\n",
       "      <th>49</th>\n",
       "      <td>KitchenQual</td>\n",
       "      <td>0.081877</td>\n",
       "    </tr>\n",
       "    <tr>\n",
       "      <th>57</th>\n",
       "      <td>GarageCars</td>\n",
       "      <td>0.080367</td>\n",
       "    </tr>\n",
       "    <tr>\n",
       "      <th>12</th>\n",
       "      <td>Condition1</td>\n",
       "      <td>0.060539</td>\n",
       "    </tr>\n",
       "    <tr>\n",
       "      <th>3</th>\n",
       "      <td>LotArea</td>\n",
       "      <td>0.055593</td>\n",
       "    </tr>\n",
       "    <tr>\n",
       "      <th>53</th>\n",
       "      <td>FireplaceQu</td>\n",
       "      <td>0.055265</td>\n",
       "    </tr>\n",
       "    <tr>\n",
       "      <th>59</th>\n",
       "      <td>GarageQual</td>\n",
       "      <td>0.052320</td>\n",
       "    </tr>\n",
       "    <tr>\n",
       "      <th>0</th>\n",
       "      <td>MSSubClass</td>\n",
       "      <td>0.051500</td>\n",
       "    </tr>\n",
       "    <tr>\n",
       "      <th>38</th>\n",
       "      <td>HeatingQC</td>\n",
       "      <td>0.051232</td>\n",
       "    </tr>\n",
       "    <tr>\n",
       "      <th>45</th>\n",
       "      <td>FullBath</td>\n",
       "      <td>0.048627</td>\n",
       "    </tr>\n",
       "    <tr>\n",
       "      <th>52</th>\n",
       "      <td>Fireplaces</td>\n",
       "      <td>0.045848</td>\n",
       "    </tr>\n",
       "    <tr>\n",
       "      <th>60</th>\n",
       "      <td>GarageCond</td>\n",
       "      <td>0.041723</td>\n",
       "    </tr>\n",
       "    <tr>\n",
       "      <th>75</th>\n",
       "      <td>SaleCondition</td>\n",
       "      <td>0.037324</td>\n",
       "    </tr>\n",
       "    <tr>\n",
       "      <th>18</th>\n",
       "      <td>YearBuilt</td>\n",
       "      <td>0.022393</td>\n",
       "    </tr>\n",
       "    <tr>\n",
       "      <th>29</th>\n",
       "      <td>BsmtQual</td>\n",
       "      <td>0.017118</td>\n",
       "    </tr>\n",
       "    <tr>\n",
       "      <th>62</th>\n",
       "      <td>WoodDeckSF</td>\n",
       "      <td>0.014453</td>\n",
       "    </tr>\n",
       "    <tr>\n",
       "      <th>22</th>\n",
       "      <td>Exterior1st</td>\n",
       "      <td>0.013465</td>\n",
       "    </tr>\n",
       "    <tr>\n",
       "      <th>55</th>\n",
       "      <td>GarageYrBlt</td>\n",
       "      <td>0.011631</td>\n",
       "    </tr>\n",
       "    <tr>\n",
       "      <th>25</th>\n",
       "      <td>MasVnrArea</td>\n",
       "      <td>0.011577</td>\n",
       "    </tr>\n",
       "    <tr>\n",
       "      <th>41</th>\n",
       "      <td>2ndFlrSF</td>\n",
       "      <td>0.008648</td>\n",
       "    </tr>\n",
       "    <tr>\n",
       "      <th>56</th>\n",
       "      <td>GarageFinish</td>\n",
       "      <td>0.007267</td>\n",
       "    </tr>\n",
       "    <tr>\n",
       "      <th>64</th>\n",
       "      <td>EnclosedPorch</td>\n",
       "      <td>0.005295</td>\n",
       "    </tr>\n",
       "    <tr>\n",
       "      <th>33</th>\n",
       "      <td>BsmtFinSF1</td>\n",
       "      <td>0.004073</td>\n",
       "    </tr>\n",
       "    <tr>\n",
       "      <th>47</th>\n",
       "      <td>BedroomAbvGr</td>\n",
       "      <td>0.001248</td>\n",
       "    </tr>\n",
       "    <tr>\n",
       "      <th>82</th>\n",
       "      <td>zeroLowQualFinSF</td>\n",
       "      <td>0.000000</td>\n",
       "    </tr>\n",
       "    <tr>\n",
       "      <th>68</th>\n",
       "      <td>PoolQC</td>\n",
       "      <td>0.000000</td>\n",
       "    </tr>\n",
       "    <tr>\n",
       "      <th>88</th>\n",
       "      <td>zeroScreenPorch</td>\n",
       "      <td>0.000000</td>\n",
       "    </tr>\n",
       "    <tr>\n",
       "      <th>4</th>\n",
       "      <td>Street</td>\n",
       "      <td>0.000000</td>\n",
       "    </tr>\n",
       "  </tbody>\n",
       "</table>\n",
       "</div>"
      ],
      "text/plain": [
       "            features  coefficients\n",
       "76          newsqvar      0.377496\n",
       "16       OverallQual      0.287977\n",
       "11      Neighborhood      0.178389\n",
       "46          HalfBath      0.124948\n",
       "39        CentralAir      0.114512\n",
       "51        Functional      0.107008\n",
       "19      YearRemodAdd      0.106771\n",
       "31      BsmtExposure      0.085539\n",
       "1           MSZoning      0.084282\n",
       "50      TotRmsAbvGrd      0.082489\n",
       "49       KitchenQual      0.081877\n",
       "57        GarageCars      0.080367\n",
       "12        Condition1      0.060539\n",
       "3            LotArea      0.055593\n",
       "53       FireplaceQu      0.055265\n",
       "59        GarageQual      0.052320\n",
       "0         MSSubClass      0.051500\n",
       "38         HeatingQC      0.051232\n",
       "45          FullBath      0.048627\n",
       "52        Fireplaces      0.045848\n",
       "60        GarageCond      0.041723\n",
       "75     SaleCondition      0.037324\n",
       "18         YearBuilt      0.022393\n",
       "29          BsmtQual      0.017118\n",
       "62        WoodDeckSF      0.014453\n",
       "22       Exterior1st      0.013465\n",
       "55       GarageYrBlt      0.011631\n",
       "25        MasVnrArea      0.011577\n",
       "41          2ndFlrSF      0.008648\n",
       "56      GarageFinish      0.007267\n",
       "64     EnclosedPorch      0.005295\n",
       "33        BsmtFinSF1      0.004073\n",
       "47      BedroomAbvGr      0.001248\n",
       "82  zeroLowQualFinSF      0.000000\n",
       "68            PoolQC      0.000000\n",
       "88   zeroScreenPorch      0.000000\n",
       "4             Street      0.000000"
      ]
     },
     "execution_count": 8,
     "metadata": {},
     "output_type": "execute_result"
    }
   ],
   "source": [
    "# Now we create a dataframe of coefficients and view the top 20 of them\n",
    "lasso_features=pd.DataFrame({'features': X.columns, 'coefficients': lasso.coef_}).sort_values(by='coefficients', ascending=False)\n",
    "lasso_features.head(37)"
   ]
  },
  {
   "cell_type": "code",
   "execution_count": 9,
   "metadata": {},
   "outputs": [
    {
     "data": {
      "text/plain": [
       "37"
      ]
     },
     "execution_count": 9,
     "metadata": {},
     "output_type": "execute_result"
    }
   ],
   "source": [
    "# We create a list of features whise coefficients are non zero.\n",
    "featurecols=lasso_features[lasso_features['coefficients']!=0]['features'].values.tolist()\n",
    "len(featurecols)"
   ]
  },
  {
   "cell_type": "markdown",
   "metadata": {},
   "source": [
    "## Finding features which are statistically significant.\n",
    "We have 37 features which are suitable for the model. However we can further reduce this number by selecting the features which are statistically significant. This helps in reducing costs and building a model that would be accurate most of the time when applied on unseen data. We can import Ols from stats model which gives us the p values of features."
   ]
  },
  {
   "cell_type": "code",
   "execution_count": 10,
   "metadata": {},
   "outputs": [],
   "source": [
    "import statsmodels.api as sm\n",
    "from statsmodels.formula.api import ols"
   ]
  },
  {
   "cell_type": "code",
   "execution_count": 11,
   "metadata": {},
   "outputs": [
    {
     "name": "stdout",
     "output_type": "stream",
     "text": [
      "newsqvar  + OverallQual  + Neighborhood  + HalfBath  + CentralAir  + Functional  + YearRemodAdd  + BsmtExposure  + MSZoning  + TotRmsAbvGrd  + KitchenQual  + GarageCars  + Condition1  + LotArea  + FireplaceQu  + GarageQual  + MSSubClass  + HeatingQC  + FullBath  + Fireplaces  + GarageCond  + SaleCondition  + YearBuilt  + BsmtQual  + WoodDeckSF  + Exterior1st  + GarageYrBlt  + MasVnrArea  + 2ndFlrSF  + GarageFinish  + EnclosedPorch  + BsmtFinSF1  + BedroomAbvGr  + MiscVal  + ScreenPorch  + LotFrontage  + BsmtUnfSF  + "
     ]
    }
   ],
   "source": [
    "for col  in featurecols:\n",
    "    print(col,' + ', end='')"
   ]
  },
  {
   "cell_type": "markdown",
   "metadata": {},
   "source": [
    "Note: There are certain types of column names that are not accepted by ols model. Hence only for the purpose of this model, I am creating a seperate dataframe with some columns renamed."
   ]
  },
  {
   "cell_type": "code",
   "execution_count": 12,
   "metadata": {},
   "outputs": [],
   "source": [
    "#Creating a dataframe olslogtrain\n",
    "logtrain=np.log(train)\n",
    "olslogtrain=logtrain\n",
    "olslogtrain.rename(columns={\"1stFlrSF\": \"FirstFlrSF\", \"2ndFlrSF\": \"SecondFlrSf\",\"3SsnPorch\": \"ThreeSsnPorch\" }, inplace=True)"
   ]
  },
  {
   "cell_type": "code",
   "execution_count": 13,
   "metadata": {
    "scrolled": true
   },
   "outputs": [
    {
     "name": "stdout",
     "output_type": "stream",
     "text": [
      "                            OLS Regression Results                            \n",
      "==============================================================================\n",
      "Dep. Variable:              SalePrice   R-squared:                       0.890\n",
      "Model:                            OLS   Adj. R-squared:                  0.889\n",
      "Method:                 Least Squares   F-statistic:                     584.9\n",
      "Date:                Thu, 19 Mar 2020   Prob (F-statistic):               0.00\n",
      "Time:                        16:08:27   Log-Likelihood:                 883.01\n",
      "No. Observations:                1460   AIC:                            -1724.\n",
      "Df Residuals:                    1439   BIC:                            -1613.\n",
      "Df Model:                          20                                         \n",
      "Covariance Type:            nonrobust                                         \n",
      "=================================================================================\n",
      "                    coef    std err          t      P>|t|      [0.025      0.975]\n",
      "---------------------------------------------------------------------------------\n",
      "Intercept         1.4498      0.271      5.346      0.000       0.918       1.982\n",
      "MSZoning          0.1094      0.025      4.302      0.000       0.060       0.159\n",
      "LotArea           0.0584      0.008      6.918      0.000       0.042       0.075\n",
      "Neighborhood      0.1849      0.020      9.448      0.000       0.147       0.223\n",
      "Condition1        0.2180      0.041      5.288      0.000       0.137       0.299\n",
      "OverallQual       0.2928      0.020     14.811      0.000       0.254       0.332\n",
      "YearRemodAdd      0.1008      0.020      5.013      0.000       0.061       0.140\n",
      "BsmtExposure      0.1087      0.025      4.353      0.000       0.060       0.158\n",
      "BsmtUnfSF        -0.0421      0.005     -9.036      0.000      -0.051      -0.033\n",
      "HeatingQC         0.0753      0.022      3.446      0.001       0.032       0.118\n",
      "CentralAir        0.1952      0.028      7.068      0.000       0.141       0.249\n",
      "FullBath          0.0577      0.020      2.863      0.004       0.018       0.097\n",
      "HalfBath          0.2204      0.031      7.051      0.000       0.159       0.282\n",
      "BedroomAbvGr      0.0901      0.042      2.129      0.033       0.007       0.173\n",
      "KitchenQual       0.0857      0.020      4.330      0.000       0.047       0.124\n",
      "TotRmsAbvGrd      0.0746      0.025      2.969      0.003       0.025       0.124\n",
      "Functional        0.3409      0.053      6.432      0.000       0.237       0.445\n",
      "GarageCars        0.1182      0.018      6.675      0.000       0.083       0.153\n",
      "WoodDeckSF        0.0203      0.007      2.818      0.005       0.006       0.034\n",
      "SaleCondition     0.1020      0.028      3.618      0.000       0.047       0.157\n",
      "newsqvar          0.4122      0.022     18.832      0.000       0.369       0.455\n",
      "==============================================================================\n",
      "Omnibus:                      663.748   Durbin-Watson:                   1.981\n",
      "Prob(Omnibus):                  0.000   Jarque-Bera (JB):             9514.698\n",
      "Skew:                          -1.734   Prob(JB):                         0.00\n",
      "Kurtosis:                      15.016   Cond. No.                     1.47e+03\n",
      "==============================================================================\n",
      "\n",
      "Warnings:\n",
      "[1] Standard Errors assume that the covariance matrix of the errors is correctly specified.\n",
      "[2] The condition number is large, 1.47e+03. This might indicate that there are\n",
      "strong multicollinearity or other numerical problems.\n"
     ]
    }
   ],
   "source": [
    "# Fitting ols model to data\n",
    "olsmodel1=ols('SalePrice ~  MSZoning  + LotArea  + Neighborhood  + Condition1  + OverallQual    + YearRemodAdd       + BsmtExposure    + BsmtUnfSF  + HeatingQC  + CentralAir    + FullBath  + HalfBath  + BedroomAbvGr  + KitchenQual  + TotRmsAbvGrd  + Functional      + GarageCars    + WoodDeckSF    + SaleCondition  + newsqvar ',olslogtrain).fit()\n",
    "print(olsmodel1.summary())"
   ]
  },
  {
   "cell_type": "markdown",
   "metadata": {},
   "source": [
    "__Observations:__\n",
    "1. Features that have p values greater than or equal to .05 have been seperated.\n",
    "2. All remaining features above have p_values lesser than .05 and hence are statisticaly significant.\n",
    "3. R^2 is 89% which shows how much variance in data is explained by model. The higher this value, the better predictor the model is.\n",
    "4. P value of F-statistic is 0, which shows that the fitted model is statistically significant."
   ]
  },
  {
   "cell_type": "code",
   "execution_count": 14,
   "metadata": {},
   "outputs": [],
   "source": [
    "# The list of features are reduced on the basis of above findings\n",
    "dropcols=['MSSubClass','MasVnrArea' , 'LotFrontage','YearBuilt','Exterior1st','BsmtQual','BsmtFinSF1','2ndFlrSF' ,'Fireplaces','FireplaceQu','GarageYrBlt','GarageFinish','GarageQual','GarageCond' ,'EnclosedPorch' ,'ScreenPorch' ,'MiscVal']  \n",
    "for col in dropcols:\n",
    "    featurecols.remove(col)\n"
   ]
  },
  {
   "cell_type": "markdown",
   "metadata": {},
   "source": [
    "## Residual Plot for identifying outliers\n",
    "In residuals plots, for Linear Regression, there are following underlying assumptions :\n",
    "    1. The residuals should not have a pattern.\n",
    "    2. The residuals should have a constant variance around the mean i.e 0.\n",
    "This will help us to identify outliers"
   ]
  },
  {
   "cell_type": "code",
   "execution_count": 15,
   "metadata": {},
   "outputs": [
    {
     "data": {
      "text/plain": [
       "Text(0.5, 1.0, 'Residual vs Fitted plot')"
      ]
     },
     "execution_count": 15,
     "metadata": {},
     "output_type": "execute_result"
    },
    {
     "data": {
      "image/png": "[encoded data removed]",
      "text/plain": [
       "<Figure size 432x288 with 1 Axes>"
      ]
     },
     "metadata": {
      "needs_background": "light"
     },
     "output_type": "display_data"
    }
   ],
   "source": [
    "# Create Linear Regression object and fit on data.\n",
    "\n",
    "from sklearn.preprocessing import FunctionTransformer\n",
    "logfunc=FunctionTransformer(np.log, inverse_func=np.exp)\n",
    "logX=logfunc.fit(train[featurecols].values)\n",
    "logy=logfunc.fit(train['SalePrice'].values)\n",
    "X=logX.transform(train[featurecols].values)\n",
    "y=logy.transform(train['SalePrice'].values)\n",
    "\n",
    "\n",
    "from sklearn.linear_model import LinearRegression\n",
    "\n",
    "lm=LinearRegression()\n",
    "lm.fit(X,y)\n",
    "\n",
    "# Residual Plot\n",
    "prediction=lm.predict(X)\n",
    "residual=y-prediction\n",
    "plt.scatter(prediction, residual)\n",
    "plt.xlabel('Fitted values of SalePrice')\n",
    "plt.ylabel('Residuals')\n",
    "plt.title('Residual vs Fitted plot')\n"
   ]
  },
  {
   "cell_type": "markdown",
   "metadata": {},
   "source": [
    "From the plot above, we can identify the residual points above .25 and below -.25 as outliers. The same standard will be applied to test data."
   ]
  },
  {
   "cell_type": "code",
   "execution_count": 16,
   "metadata": {},
   "outputs": [],
   "source": [
    "# Identifying outliers.  \n",
    "train['Residuals']=residual\n",
    "train['Prediction']=prediction\n",
    "\n",
    "outliers=train[(train['Residuals']>.25)|(train['Residuals']<-.25)].index.values.tolist()\n",
    "\n",
    "train_lm=train.drop(outliers, axis=0)\n",
    "train=train.drop(['Residuals','Prediction'], axis=1)"
   ]
  },
  {
   "cell_type": "markdown",
   "metadata": {},
   "source": [
    "## Creating X (Features) and y (target variable) "
   ]
  },
  {
   "cell_type": "markdown",
   "metadata": {},
   "source": [
    "We need to set the feature and target variable so that models can be trained on them."
   ]
  },
  {
   "cell_type": "code",
   "execution_count": 17,
   "metadata": {},
   "outputs": [],
   "source": [
    "# Creating a log object and transforming Features and target variable\n",
    "\n",
    "logfunc=FunctionTransformer(np.log, inverse_func=np.exp)\n",
    "logX_lm=logfunc.fit(train_lm[featurecols].values)\n",
    "logy_lm=logfunc.fit(train_lm['SalePrice'].values)\n",
    "X=logX_lm.transform(train_lm[featurecols].values)\n",
    "y=logy_lm.transform(train_lm['SalePrice'].values)"
   ]
  },
  {
   "cell_type": "markdown",
   "metadata": {},
   "source": [
    "# MODELS"
   ]
  },
  {
   "cell_type": "markdown",
   "metadata": {},
   "source": [
    "## LINEAR REGRESSION MODEL"
   ]
  },
  {
   "cell_type": "markdown",
   "metadata": {},
   "source": [
    "\n",
    "Let's create a Linear Regression Object and fit to train data.\n",
    "The score for evaluating performance is Root Mean Square Error between log of Sale Price and log of Predictions.\n",
    "We will use 5 fold cross validation on train set."
   ]
  },
  {
   "cell_type": "code",
   "execution_count": 18,
   "metadata": {},
   "outputs": [],
   "source": [
    "# Score function parameter\n",
    "from sklearn.metrics import mean_squared_error, make_scorer\n",
    "mean_sq_err=make_scorer(mean_squared_error)"
   ]
  },
  {
   "cell_type": "code",
   "execution_count": 19,
   "metadata": {},
   "outputs": [
    {
     "name": "stdout",
     "output_type": "stream",
     "text": [
      "The cross validated RMSE of Linear Regression Model- lm1, on train set is:  0.096\n"
     ]
    }
   ],
   "source": [
    "# Create and fit Linear Regression object and compute cross validated score\n",
    "from sklearn.model_selection import cross_val_score\n",
    "lm1=LinearRegression()\n",
    "lm1.fit(X,y)\n",
    "cv_results=cross_val_score(lm1, X, y, scoring=mean_sq_err, cv=5)\n",
    "print('The cross validated RMSE of Linear Regression Model- lm1, on train set is: ',round(np.sqrt(np.mean(cv_results)),3))"
   ]
  },
  {
   "cell_type": "markdown",
   "metadata": {},
   "source": [
    "## RIDGE REGRESSION MODEL"
   ]
  },
  {
   "cell_type": "markdown",
   "metadata": {},
   "source": [
    "Let's create a Ridge Regression Object and fit to train data. The score for evaluating performance is Root Mean Square Error between log of Sale Price and log of Predictions. First we will use Grid Search cross validation on train set in order to tune alpha.\n",
    "\n"
   ]
  },
  {
   "cell_type": "code",
   "execution_count": 20,
   "metadata": {},
   "outputs": [
    {
     "name": "stdout",
     "output_type": "stream",
     "text": [
      " Optimum value of alpha for Ridge Regression Model is:  {'alpha': 50}\n",
      " The cross validated RMSE for Ridge Regression Model, using optimum value for alpha is :   0.112\n"
     ]
    }
   ],
   "source": [
    "# We perform Grid serach cv for hyperparameter tuning\n",
    "from sklearn.linear_model import Ridge\n",
    "from sklearn.model_selection import GridSearchCV\n",
    "\n",
    "param_grid={'alpha':[0,.1,.3,.5,1,10,50]}\n",
    "ridg_cv=GridSearchCV(Ridge(),param_grid,scoring=mean_sq_err, cv=5 )\n",
    "ridg_cv.fit(X,y)\n",
    "\n",
    "print(' Optimum value of alpha for Ridge Regression Model is: ' , ridg_cv.best_params_)\n",
    "print(' The cross validated RMSE for Ridge Regression Model, using optimum value for alpha is :  ', round(np.sqrt(ridg_cv.best_score_),3))"
   ]
  },
  {
   "cell_type": "code",
   "execution_count": 21,
   "metadata": {},
   "outputs": [
    {
     "name": "stdout",
     "output_type": "stream",
     "text": [
      "The RMSE of Ridge Model- ridg, on train set is:  0.112\n"
     ]
    }
   ],
   "source": [
    "# We create Ridge Regression object using optimum value for alpha and fit on train set.\n",
    "\n",
    "ridg=Ridge(alpha =50)\n",
    "ridg.fit(X,y)\n",
    "\n",
    "#prediction = ridg.predict(X)\n",
    "cv_results=cross_val_score(ridg, X, y, scoring=mean_sq_err, cv=5)\n",
    "#print('The RMSE of Ridge Model- ridg, on train set is: ',np.sqrt(mean_squared_error(y, prediction)))\n",
    "print('The RMSE of Ridge Model- ridg, on train set is: ', round(np.sqrt(np.mean(cv_results)),3))"
   ]
  },
  {
   "cell_type": "code",
   "execution_count": null,
   "metadata": {},
   "outputs": [],
   "source": []
  },
  {
   "cell_type": "markdown",
   "metadata": {},
   "source": [
    "## RANDOM FOREST"
   ]
  },
  {
   "cell_type": "code",
   "execution_count": 22,
   "metadata": {},
   "outputs": [],
   "source": [
    "# Creating features and target set from train data for Random Forest model.\n",
    "logX_rf=logfunc.fit(train.drop(['SalePrice','Id'], axis=1).values)\n",
    "logy_rf=logfunc.fit(train['SalePrice'].values)\n",
    "X=logX_rf.transform(train.drop(['SalePrice','Id'], axis=1).values)\n",
    "y=logy_rf.transform(train['SalePrice'].values)"
   ]
  },
  {
   "cell_type": "code",
   "execution_count": 23,
   "metadata": {
    "scrolled": true
   },
   "outputs": [
    {
     "name": "stdout",
     "output_type": "stream",
     "text": [
      " Optimum values of hyperparameters for RandomForest model are:  {'n_estimators': 500, 'min_samples_split': 6, 'max_samples': 300, 'max_features': 5}\n"
     ]
    }
   ],
   "source": [
    "# Finding the optimum hyperparameters\n",
    "\n",
    "from sklearn.model_selection import RandomizedSearchCV\n",
    "from sklearn.ensemble import RandomForestRegressor\n",
    "\n",
    "param_grid={'max_features':[5,10,15,25], 'max_samples':[200, 300, 500, 700, 1000, 1168],'n_estimators':[100, 500, 1000,1500],'min_samples_split':[2,6,8,10,12,15]}\n",
    "mean_sq_err=make_scorer(mean_squared_error)\n",
    "\n",
    "rf_cv=RandomizedSearchCV(RandomForestRegressor(),param_grid,scoring=mean_sq_err, cv=5, random_state=42 )\n",
    "rf_cv.fit(X,y)\n",
    "\n",
    "print(' Optimum values of hyperparameters for RandomForest model are: ' , rf_cv.best_params_)\n"
   ]
  },
  {
   "cell_type": "code",
   "execution_count": 24,
   "metadata": {
    "scrolled": true
   },
   "outputs": [
    {
     "name": "stdout",
     "output_type": "stream",
     "text": [
      "The cross validated RMSE for Ridge Regression Model, is :   0.14\n"
     ]
    }
   ],
   "source": [
    "# Creating and fit Random Forest with optimum hyperparameters\n",
    "rf =RandomForestRegressor(n_estimators=500,min_samples_split= 6,max_samples=300,max_features=5, random_state=42)\n",
    "rf.fit(X,y)\n",
    "prediction= rf.predict(X)\n",
    "print('The cross validated RMSE for Ridge Regression Model, is :  ', round(np.sqrt(mean_squared_error(y, prediction)),3))\n",
    "\n"
   ]
  },
  {
   "cell_type": "code",
   "execution_count": 25,
   "metadata": {},
   "outputs": [
    {
     "data": {
      "text/html": [
       "<div>\n",
       "<style scoped>\n",
       "    .dataframe tbody tr th:only-of-type {\n",
       "        vertical-align: middle;\n",
       "    }\n",
       "\n",
       "    .dataframe tbody tr th {\n",
       "        vertical-align: top;\n",
       "    }\n",
       "\n",
       "    .dataframe thead th {\n",
       "        text-align: right;\n",
       "    }\n",
       "</style>\n",
       "<table border=\"1\" class=\"dataframe\">\n",
       "  <thead>\n",
       "    <tr style=\"text-align: right;\">\n",
       "      <th></th>\n",
       "      <th>Feature_name</th>\n",
       "      <th>Feature_Importance</th>\n",
       "    </tr>\n",
       "  </thead>\n",
       "  <tbody>\n",
       "    <tr>\n",
       "      <th>76</th>\n",
       "      <td>newsqvar</td>\n",
       "      <td>0.08</td>\n",
       "    </tr>\n",
       "    <tr>\n",
       "      <th>16</th>\n",
       "      <td>OverallQual</td>\n",
       "      <td>0.06</td>\n",
       "    </tr>\n",
       "    <tr>\n",
       "      <th>11</th>\n",
       "      <td>Neighborhood</td>\n",
       "      <td>0.06</td>\n",
       "    </tr>\n",
       "    <tr>\n",
       "      <th>18</th>\n",
       "      <td>YearBuilt</td>\n",
       "      <td>0.05</td>\n",
       "    </tr>\n",
       "    <tr>\n",
       "      <th>26</th>\n",
       "      <td>ExterQual</td>\n",
       "      <td>0.04</td>\n",
       "    </tr>\n",
       "    <tr>\n",
       "      <th>29</th>\n",
       "      <td>BsmtQual</td>\n",
       "      <td>0.04</td>\n",
       "    </tr>\n",
       "    <tr>\n",
       "      <th>55</th>\n",
       "      <td>GarageYrBlt</td>\n",
       "      <td>0.04</td>\n",
       "    </tr>\n",
       "    <tr>\n",
       "      <th>49</th>\n",
       "      <td>KitchenQual</td>\n",
       "      <td>0.04</td>\n",
       "    </tr>\n",
       "    <tr>\n",
       "      <th>19</th>\n",
       "      <td>YearRemodAdd</td>\n",
       "      <td>0.03</td>\n",
       "    </tr>\n",
       "    <tr>\n",
       "      <th>45</th>\n",
       "      <td>FullBath</td>\n",
       "      <td>0.03</td>\n",
       "    </tr>\n",
       "    <tr>\n",
       "      <th>53</th>\n",
       "      <td>FireplaceQu</td>\n",
       "      <td>0.03</td>\n",
       "    </tr>\n",
       "    <tr>\n",
       "      <th>57</th>\n",
       "      <td>GarageCars</td>\n",
       "      <td>0.03</td>\n",
       "    </tr>\n",
       "    <tr>\n",
       "      <th>58</th>\n",
       "      <td>GarageArea</td>\n",
       "      <td>0.03</td>\n",
       "    </tr>\n",
       "    <tr>\n",
       "      <th>50</th>\n",
       "      <td>TotRmsAbvGrd</td>\n",
       "      <td>0.02</td>\n",
       "    </tr>\n",
       "    <tr>\n",
       "      <th>54</th>\n",
       "      <td>GarageType</td>\n",
       "      <td>0.02</td>\n",
       "    </tr>\n",
       "    <tr>\n",
       "      <th>33</th>\n",
       "      <td>BsmtFinSF1</td>\n",
       "      <td>0.02</td>\n",
       "    </tr>\n",
       "    <tr>\n",
       "      <th>56</th>\n",
       "      <td>GarageFinish</td>\n",
       "      <td>0.02</td>\n",
       "    </tr>\n",
       "    <tr>\n",
       "      <th>28</th>\n",
       "      <td>Foundation</td>\n",
       "      <td>0.02</td>\n",
       "    </tr>\n",
       "    <tr>\n",
       "      <th>52</th>\n",
       "      <td>Fireplaces</td>\n",
       "      <td>0.02</td>\n",
       "    </tr>\n",
       "    <tr>\n",
       "      <th>0</th>\n",
       "      <td>MSSubClass</td>\n",
       "      <td>0.02</td>\n",
       "    </tr>\n",
       "  </tbody>\n",
       "</table>\n",
       "</div>"
      ],
      "text/plain": [
       "    Feature_name  Feature_Importance\n",
       "76      newsqvar                0.08\n",
       "16   OverallQual                0.06\n",
       "11  Neighborhood                0.06\n",
       "18     YearBuilt                0.05\n",
       "26     ExterQual                0.04\n",
       "29      BsmtQual                0.04\n",
       "55   GarageYrBlt                0.04\n",
       "49   KitchenQual                0.04\n",
       "19  YearRemodAdd                0.03\n",
       "45      FullBath                0.03\n",
       "53   FireplaceQu                0.03\n",
       "57    GarageCars                0.03\n",
       "58    GarageArea                0.03\n",
       "50  TotRmsAbvGrd                0.02\n",
       "54    GarageType                0.02\n",
       "33    BsmtFinSF1                0.02\n",
       "56  GarageFinish                0.02\n",
       "28    Foundation                0.02\n",
       "52    Fireplaces                0.02\n",
       "0     MSSubClass                0.02"
      ]
     },
     "execution_count": 25,
     "metadata": {},
     "output_type": "execute_result"
    }
   ],
   "source": [
    "# Create dataframe of Feature importances and list the top 20 features\n",
    "feature_list=train.drop(['SalePrice', 'Id'], axis=1).columns\n",
    "df=pd.DataFrame({'Feature_name': feature_list, 'Feature_Importance':rf.feature_importances_.round(2) })\n",
    "df.sort_values(by='Feature_Importance', ascending=False).head(20)"
   ]
  },
  {
   "cell_type": "markdown",
   "metadata": {},
   "source": [
    "## TEST DATA"
   ]
  },
  {
   "cell_type": "code",
   "execution_count": 26,
   "metadata": {},
   "outputs": [],
   "source": [
    "#Reading Test data and merging it with sample_submission \n",
    "test=pd.read_csv('E:\\\\TANU\\\\datasets\\\\housing price\\\\test.csv')\n",
    "df2=pd.read_csv('E:\\\\TANU\\\\datasets\\\\housing price\\\\sample_submission.csv')\n",
    "test=pd.merge(test,df2, on='Id')\n"
   ]
  },
  {
   "cell_type": "code",
   "execution_count": 27,
   "metadata": {},
   "outputs": [],
   "source": [
    "# Creating New variable'newsqvar' and amending the dataframe\n",
    "test['newsqvar']=test['TotalBsmtSF']+test['1stFlrSF']+test['GrLivArea']\n",
    "droplist=['TotalBsmtSF','1stFlrSF','GrLivArea']\n",
    "test=test.drop(droplist, axis=1)"
   ]
  },
  {
   "cell_type": "code",
   "execution_count": 28,
   "metadata": {},
   "outputs": [],
   "source": [
    "# Creating new variables out of numeric variables that reflect absence or presence of zero.\n",
    "for col in numcollist:\n",
    "    if 0 in test[col].values:\n",
    "        test['zero'+col]=np.where(test[col]==0,1,0)\n"
   ]
  },
  {
   "cell_type": "code",
   "execution_count": 29,
   "metadata": {},
   "outputs": [],
   "source": [
    "# Nan Imputation \n",
    "test[numcollist]=test[numcollist].replace(0, np.nan).interpolate(kind='linear',limit_direction='both')\n",
    "test[categlist]=test[categlist].fillna('Absent')\n"
   ]
  },
  {
   "cell_type": "code",
   "execution_count": 30,
   "metadata": {},
   "outputs": [],
   "source": [
    "# Perform numeric labelling of categorical variables for test data\n",
    "\n",
    "for col in categlist:\n",
    "    test_category_conversion(col)"
   ]
  },
  {
   "cell_type": "code",
   "execution_count": 31,
   "metadata": {},
   "outputs": [],
   "source": [
    "# Identifying and deleting outliers for Linear Regression\n",
    "X=logX.transform(test[featurecols].values)\n",
    "y=logy.transform(test['SalePrice'].values)\n",
    "\n",
    "prediction=lm.predict(X)\n",
    "residual=y-prediction\n",
    "test['Residuals']=residual\n",
    "test['Prediction']=prediction\n",
    "\n",
    "outliers=test[(test['Residuals']>.25)|(test['Residuals']<-.25)].index.values.tolist()\n",
    "\n",
    "test_lm=test.drop(outliers, axis=0)\n",
    "test=test.drop(['Residuals','Prediction'], axis=1)"
   ]
  },
  {
   "cell_type": "markdown",
   "metadata": {},
   "source": [
    "## Creating X (Features) and y (target variable)  for test set.\n",
    "We transform the Test data to its logarithmic equivalent using the log transformation object created. Before this step the outliers need to be taken care of. For identifying outliers this we have used the same criteria as we used for train data."
   ]
  },
  {
   "cell_type": "code",
   "execution_count": 32,
   "metadata": {},
   "outputs": [],
   "source": [
    "# Create features and target set from test data\n",
    "X=logX_lm.transform(test_lm[featurecols].values)\n",
    "y=logy_lm.transform(test_lm['SalePrice'].values)"
   ]
  },
  {
   "cell_type": "markdown",
   "metadata": {},
   "source": [
    "## Apply Linear Regression Model- (lm1) on test set and predict"
   ]
  },
  {
   "cell_type": "code",
   "execution_count": 33,
   "metadata": {},
   "outputs": [
    {
     "name": "stdout",
     "output_type": "stream",
     "text": [
      "The RMSE i.e root mean squared error between log of actual Sale Price and Predicted Sale Price is:  0.12\n"
     ]
    }
   ],
   "source": [
    "prediction=lm1.predict(X)\n",
    "print('The RMSE i.e root mean squared error between log of actual Sale Price and Predicted Sale Price is: ' ,round(np.sqrt(mean_squared_error(y, prediction)),3))"
   ]
  },
  {
   "cell_type": "markdown",
   "metadata": {},
   "source": [
    "## Apply Ridge Model- (ridg) on test set and predict"
   ]
  },
  {
   "cell_type": "code",
   "execution_count": 34,
   "metadata": {},
   "outputs": [
    {
     "name": "stdout",
     "output_type": "stream",
     "text": [
      "The RMSE i.e root mean squared error between log of actual Sale Price and Predicted Sale Price is:  0.089\n"
     ]
    }
   ],
   "source": [
    "prediction=ridg.predict(X)\n",
    "print('The RMSE i.e root mean squared error between log of actual Sale Price and Predicted Sale Price is: ', round(np.sqrt(mean_squared_error(y, prediction)),3))"
   ]
  },
  {
   "cell_type": "markdown",
   "metadata": {},
   "source": [
    "## Apply Random Forest Model- (rf) on test set and predict"
   ]
  },
  {
   "cell_type": "code",
   "execution_count": 35,
   "metadata": {
    "scrolled": true
   },
   "outputs": [
    {
     "name": "stdout",
     "output_type": "stream",
     "text": [
      "The RMSE i.e root mean squared error between log of actual Sale Price and Predicted Sale Price is:  0.086\n"
     ]
    }
   ],
   "source": [
    "X=logX_rf.transform(test.drop(['SalePrice','Id'], axis=1).values)\n",
    "y=logy_rf.transform(test['SalePrice'].values)\n",
    "prediction=rf.predict(X)\n",
    "print('The RMSE i.e root mean squared error between log of actual Sale Price and Predicted Sale Price is: ', round(np.sqrt(mean_squared_error(y, prediction)),3))"
   ]
  },
  {
   "cell_type": "code",
   "execution_count": 36,
   "metadata": {},
   "outputs": [
    {
     "data": {
      "text/plain": [
       "array([171955., 179351., 174186., ..., 185479., 165118., 182698.])"
      ]
     },
     "execution_count": 36,
     "metadata": {},
     "output_type": "execute_result"
    }
   ],
   "source": [
    "# Reversing log transformation of predicted Sale Price\n",
    "predicted_saleprice= logy_rf.inverse_transform(prediction).round(0)\n",
    "predicted_saleprice"
   ]
  },
  {
   "cell_type": "code",
   "execution_count": null,
   "metadata": {},
   "outputs": [],
   "source": []
  }
 ],
 "metadata": {
  "kernelspec": {
   "display_name": "Python 3",
   "language": "python",
   "name": "python3"
  },
  "language_info": {
   "codemirror_mode": {
    "name": "ipython",
    "version": 3
   },
   "file_extension": ".py",
   "mimetype": "text/x-python",
   "name": "python",
   "nbconvert_exporter": "python",
   "pygments_lexer": "ipython3",
   "version": "3.7.3"
  }
 },
 "nbformat": 4,
 "nbformat_minor": 2
}
